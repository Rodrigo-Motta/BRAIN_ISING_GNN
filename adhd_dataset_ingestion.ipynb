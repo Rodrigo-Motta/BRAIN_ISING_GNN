{
 "cells": [
  {
   "cell_type": "code",
   "execution_count": 94,
   "id": "a0e67ba9-2246-4628-9898-57bf6146d4d9",
   "metadata": {},
   "outputs": [],
   "source": [
    "import pandas as pd\n",
    "import numpy as np\n",
    "import matplotlib.pyplot as plt\n",
    "import pandas as pd\n",
    "import utils as ut"
   ]
  },
  {
   "cell_type": "code",
   "execution_count": 92,
   "id": "bbcf0239-94c7-47a8-97d6-9f0ed15e7462",
   "metadata": {},
   "outputs": [],
   "source": [
    "def reconstruct_symmetric_matrix(size, upper_triangle_array, diag=1):\n",
    "    '''\n",
    "    Reconstruct symmetric matrix from the upper triangle array\n",
    "    '''\n",
    "    # Create an empty matrix filled with zeros\n",
    "    result = np.zeros((size, size))\n",
    "\n",
    "    # Fill the upper triangle of the matrix (including the diagonal) with the values from the input array\n",
    "    result[np.triu_indices_from(result)] = upper_triangle_array\n",
    "\n",
    "    # Make the matrix symmetric by adding its transpose\n",
    "    result = result + result.T\n",
    "\n",
    "    # Fill the diagonal with the specified diagonal value (default is 1)\n",
    "    np.fill_diagonal(result, diag)\n",
    "\n",
    "    return result"
   ]
  },
  {
   "cell_type": "code",
   "execution_count": 121,
   "id": "36fbc604-531a-4269-a6e1-733e5bda1cfb",
   "metadata": {},
   "outputs": [
    {
     "name": "stderr",
     "output_type": "stream",
     "text": [
      "/var/folders/24/hz8c6rbx3r32smymhrvkwbmc0000gn/T/ipykernel_75011/2075327235.py:1: DtypeWarning: Columns (55613,55620) have mixed types. Specify dtype option on import or set low_memory=False.\n",
      "  df = pd.read_csv('/Users/rodrigo/Post-Grad/connectivity_matrices_adhd.csv')\n",
      "/var/folders/24/hz8c6rbx3r32smymhrvkwbmc0000gn/T/ipykernel_75011/2075327235.py:29: FutureWarning: The default value of regex will change from True to False in a future version.\n",
      "  motion['Subject'] = motion['Subject'].str.replace(r'^(0+)', '').fillna('0')\n"
     ]
    }
   ],
   "source": [
    "df = pd.read_csv('/Users/rodrigo/Post-Grad/connectivity_matrices_adhd.csv')\n",
    "\n",
    "merged_df = df.iloc[:, -36:]\n",
    "y = df.iloc[:, -36:]['Age']\n",
    "X_fmri = pd.DataFrame()\n",
    "for i in range(df.shape[0]):\n",
    "    aux = ut.remove_triangle(pd.DataFrame(reconstruct_symmetric_matrix(333, df.iloc[i,1:-36])))\n",
    "    X_fmri = pd.concat([X_fmri, pd.DataFrame(aux)], axis=0)\n",
    "    \n",
    "X_fmri = X_fmri.reset_index().drop(columns='index')\n",
    "# Identify columns with numerical names\n",
    "numerical_columns = [col for col in df.columns if isinstance(col, (int, float)) or (isinstance(col, str) and col.isdigit())]\n",
    "\n",
    "# Drop columns with numerical names\n",
    "df = pd.concat([X_fmri, df.iloc[:,1:].drop(columns=numerical_columns)],axis=1)\n",
    "\n",
    "df = df.dropna(subset='Subject')\n",
    "df['Subject'] = df['Subject'].astype(int).astype(str)\n",
    "df = df.set_index('Subject')\n",
    "\n",
    "phenotypic = pd.read_csv(r'/Users/rodrigo/Post-Grad/CC400/phenotypic200.csv',\n",
    "                         index_col=['Institution','Subject'])\n",
    "motion = pd.read_csv(r'/Users/rodrigo/Post-Grad/CC400/motion200.csv',\n",
    "                     index_col=['Institution','File'])\n",
    "\n",
    "motion = motion.reset_index()\n",
    "motion['Subject'] = motion['File'].str.extract('(\\d+)')\n",
    "motion['Run'] =  (motion['File'].str[-4:]).str[0]\n",
    "motion['Subject'] = motion['Subject'].str.replace(r'^(0+)', '').fillna('0')\n",
    "motion = motion.set_index('Subject')\n",
    "motion = motion[motion['File'].str.contains('rest_1')]\n",
    "\n",
    "motion = motion.loc[df.index,:]\n",
    "df['Max Motion (mm)'] = motion['Max Motion (mm)'] \n",
    "df[' Max Rotation (degree)'] = motion[' Max Rotation (degree)'] "
   ]
  },
  {
   "cell_type": "code",
   "execution_count": 123,
   "id": "cea50282-2add-49e0-8fa0-d55bde42096c",
   "metadata": {},
   "outputs": [],
   "source": [
    "df.to_csv('/Users/rodrigo/Post-Grad/adhd_dataset_gordon.csv')"
   ]
  },
  {
   "cell_type": "code",
   "execution_count": null,
   "id": "3820bc91-02e5-474c-96d6-57f53521c2bc",
   "metadata": {},
   "outputs": [],
   "source": []
  }
 ],
 "metadata": {
  "kernelspec": {
   "display_name": "Python 3 (ipykernel)",
   "language": "python",
   "name": "python3"
  },
  "language_info": {
   "codemirror_mode": {
    "name": "ipython",
    "version": 3
   },
   "file_extension": ".py",
   "mimetype": "text/x-python",
   "name": "python",
   "nbconvert_exporter": "python",
   "pygments_lexer": "ipython3",
   "version": "3.9.16"
  }
 },
 "nbformat": 4,
 "nbformat_minor": 5
}
