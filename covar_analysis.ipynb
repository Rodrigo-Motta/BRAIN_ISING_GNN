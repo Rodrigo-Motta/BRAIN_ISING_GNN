{
 "cells": [
  {
   "cell_type": "code",
   "execution_count": 1,
   "id": "def791a4-e6ae-4257-8e9d-f3cb1a573844",
   "metadata": {},
   "outputs": [
    {
     "name": "stdout",
     "output_type": "stream",
     "text": [
      "/Users/rodrigo/Post-Grad/CC400/Repo\n"
     ]
    }
   ],
   "source": [
    "%cd /Users/rodrigo/Post-Grad/CC400/Repo"
   ]
  },
  {
   "cell_type": "code",
   "execution_count": 242,
   "id": "9fdb800f-3670-4ef6-81e2-307be75e11be",
   "metadata": {},
   "outputs": [],
   "source": [
    "from sklearn.decomposition import PCA\n",
    "from sklearn.cluster import k_means\n",
    "import numpy as np\n",
    "import matplotlib.pyplot as plt\n",
    "from numba import jit,prange\n",
    "import time\n",
    "from utils import import_data, compute_KNN_graph, create_batch,reconstruct_symmetric_matrix, read_motion\n",
    "import pandas as pd\n",
    "import numpy as np\n",
    "import matplotlib.pyplot as plt\n",
    "import seaborn as sns\n",
    "import torch\n",
    "import torch_geometric\n",
    "import torch.nn as nn\n",
    "from torch_geometric.data import Data\n",
    "from torch_geometric.utils import dense_to_sparse\n",
    "from sklearn.model_selection import cross_validate\n",
    "from tqdm import tqdm\n",
    "from torch_geometric.loader import DataLoader\n",
    "from sklearn.metrics import roc_curve, auc\n",
    "from sklearn.model_selection import StratifiedKFold\n",
    "from sklearn.metrics import mean_absolute_error,mean_squared_error, r2_score\n",
    "\n",
    "scoring = {'mae': 'neg_mean_absolute_error',\n",
    "           'mse': 'neg_mean_squared_error',\n",
    "          'r2' : 'r2'} "
   ]
  },
  {
   "cell_type": "code",
   "execution_count": 498,
   "id": "68661cdd-fd29-41bd-b30b-5893d24b2fd9",
   "metadata": {},
   "outputs": [],
   "source": [
    "df = pd.read_csv(\"/Users/rodrigo/Post-Grad/Ising_GNN/result.csv\").dropna()\n",
    "\n",
    "df.head()\n",
    "\n",
    "df = df[df['Max Motion (mm)'] < 5]"
   ]
  },
  {
   "cell_type": "code",
   "execution_count": 499,
   "id": "0a83c771-955b-4d61-b257-7920c5f30b15",
   "metadata": {},
   "outputs": [
    {
     "name": "stdout",
     "output_type": "stream",
     "text": [
      "correlation Temperature and Age = -0.34320116550631624\n"
     ]
    }
   ],
   "source": [
    "print('correlation Temperature and Age = {}'.format(np.corrcoef([df['Temperature'], df['Age']])[0,1]))"
   ]
  },
  {
   "cell_type": "code",
   "execution_count": 500,
   "id": "53da19db-707f-4e33-87e8-4c59f09b9c1c",
   "metadata": {},
   "outputs": [
    {
     "name": "stdout",
     "output_type": "stream",
     "text": [
      "correlation Temperature and Max Motion = 0.22754855114852643\n"
     ]
    }
   ],
   "source": [
    "print('correlation Temperature and Max Motion = {}'.format(np.corrcoef([df['Temperature'], df['Max Motion (mm)']])[0,1]))"
   ]
  },
  {
   "cell_type": "code",
   "execution_count": 552,
   "id": "9f1b19de-8bf0-46f6-9220-e1d0fdeb846d",
   "metadata": {},
   "outputs": [
    {
     "name": "stderr",
     "output_type": "stream",
     "text": [
      "/var/folders/24/hz8c6rbx3r32smymhrvkwbmc0000gn/T/ipykernel_2906/810814169.py:7: SettingWithCopyWarning: \n",
      "A value is trying to be set on a copy of a slice from a DataFrame.\n",
      "Try using .loc[row_indexer,col_indexer] = value instead\n",
      "\n",
      "See the caveats in the documentation: https://pandas.pydata.org/pandas-docs/stable/user_guide/indexing.html#returning-a-view-versus-a-copy\n",
      "  X['Max Motion (mm)'] = np.log(X['Max Motion (mm)']) + 0.00001\n"
     ]
    }
   ],
   "source": [
    "# X = df[['Age', 'Max Motion (mm)']]#, 'Gender', 'DX']]\n",
    "# y = df['Temperature']\n",
    "\n",
    "X = df[['Max Motion (mm)', 'Temperature', 'Gender', 'DX']]\n",
    "y = df['Age']\n",
    "\n",
    "X['Max Motion (mm)'] = np.log(X['Max Motion (mm)']) + 0.00001\n",
    "\n",
    "X = (X - X.min(axis=0)) / (X.max(axis=0) - X.min(axis=0))\n",
    "y = (y - y.min(axis=0)) / (y.max(axis=0) - y.min(axis=0))"
   ]
  },
  {
   "cell_type": "code",
   "execution_count": 553,
   "id": "38ef6759-052a-4855-9c74-1a6a3b8750f9",
   "metadata": {},
   "outputs": [],
   "source": [
    "# plt.hist(X.Age, alpha=0.5)\n",
    "# plt.hist(X['Max Motion (mm)'], alpha=.5)\n",
    "# plt.hist(y, alpha=.6)\n",
    "# plt.show()"
   ]
  },
  {
   "cell_type": "code",
   "execution_count": 554,
   "id": "674fd63b-3057-4575-a9a0-fb0d12ea8876",
   "metadata": {},
   "outputs": [
    {
     "data": {
      "text/plain": [
       "0.12255487449734392"
      ]
     },
     "execution_count": 554,
     "metadata": {},
     "output_type": "execute_result"
    }
   ],
   "source": [
    "from sklearn.linear_model import LinearRegression\n",
    "reg = LinearRegression(fit_intercept=True).fit(X,y)\n",
    "reg.score(X, y)"
   ]
  },
  {
   "cell_type": "code",
   "execution_count": 555,
   "id": "9542f3bb-0b62-4f3e-8c5c-fa585c101f24",
   "metadata": {},
   "outputs": [
    {
     "data": {
      "text/plain": [
       "array([-0.06172894, -0.92499361,  0.01364721, -0.01775765])"
      ]
     },
     "execution_count": 555,
     "metadata": {},
     "output_type": "execute_result"
    }
   ],
   "source": [
    "reg.coef_"
   ]
  },
  {
   "cell_type": "code",
   "execution_count": 558,
   "id": "0facf3ac-9199-411f-9b2b-b511d7a355a6",
   "metadata": {},
   "outputs": [
    {
     "data": {
      "text/plain": [
       "<matplotlib.collections.PathCollection at 0x14d235c10>"
      ]
     },
     "execution_count": 558,
     "metadata": {},
     "output_type": "execute_result"
    },
    {
     "data": {
      "image/png": "[encoded data removed]",
      "text/plain": [
       "<Figure size 640x480 with 1 Axes>"
      ]
     },
     "metadata": {},
     "output_type": "display_data"
    }
   ],
   "source": [
    "plt.scatter(X['Temperature'], y)"
   ]
  },
  {
   "cell_type": "code",
   "execution_count": 556,
   "id": "61082105-6591-4c9a-aeff-f20c698de865",
   "metadata": {},
   "outputs": [],
   "source": [
    "import statsmodels.api as sm\n",
    "\n",
    "#X = sm.add_constant(X)\n",
    "mod = sm.OLS(y, X).fit()\n"
   ]
  },
  {
   "cell_type": "code",
   "execution_count": 557,
   "id": "1779319f-e337-4abf-af99-4aa47361ac6e",
   "metadata": {},
   "outputs": [
    {
     "data": {
      "text/html": [
       "<table class=\"simpletable\">\n",
       "<caption>OLS Regression Results</caption>\n",
       "<tr>\n",
       "  <th>Dep. Variable:</th>           <td>Age</td>       <th>  R-squared (uncentered):</th>      <td>   0.581</td> \n",
       "</tr>\n",
       "<tr>\n",
       "  <th>Model:</th>                   <td>OLS</td>       <th>  Adj. R-squared (uncentered):</th> <td>   0.580</td> \n",
       "</tr>\n",
       "<tr>\n",
       "  <th>Method:</th>             <td>Least Squares</td>  <th>  F-statistic:       </th>          <td>   386.4</td> \n",
       "</tr>\n",
       "<tr>\n",
       "  <th>Date:</th>             <td>Fri, 20 Oct 2023</td> <th>  Prob (F-statistic):</th>          <td>1.12e-208</td>\n",
       "</tr>\n",
       "<tr>\n",
       "  <th>Time:</th>                 <td>16:35:14</td>     <th>  Log-Likelihood:    </th>          <td> -24.022</td> \n",
       "</tr>\n",
       "<tr>\n",
       "  <th>No. Observations:</th>      <td>  1117</td>      <th>  AIC:               </th>          <td>   56.04</td> \n",
       "</tr>\n",
       "<tr>\n",
       "  <th>Df Residuals:</th>          <td>  1113</td>      <th>  BIC:               </th>          <td>   76.12</td> \n",
       "</tr>\n",
       "<tr>\n",
       "  <th>Df Model:</th>              <td>     4</td>      <th>                     </th>              <td> </td>    \n",
       "</tr>\n",
       "<tr>\n",
       "  <th>Covariance Type:</th>      <td>nonrobust</td>    <th>                     </th>              <td> </td>    \n",
       "</tr>\n",
       "</table>\n",
       "<table class=\"simpletable\">\n",
       "<tr>\n",
       "         <td></td>            <th>coef</th>     <th>std err</th>      <th>t</th>      <th>P>|t|</th>  <th>[0.025</th>    <th>0.975]</th>  \n",
       "</tr>\n",
       "<tr>\n",
       "  <th>Max Motion (mm)</th> <td>    0.3654</td> <td>    0.028</td> <td>   12.961</td> <td> 0.000</td> <td>    0.310</td> <td>    0.421</td>\n",
       "</tr>\n",
       "<tr>\n",
       "  <th>Temperature</th>     <td>    0.0457</td> <td>    0.081</td> <td>    0.565</td> <td> 0.572</td> <td>   -0.113</td> <td>    0.205</td>\n",
       "</tr>\n",
       "<tr>\n",
       "  <th>Gender</th>          <td>    0.1070</td> <td>    0.015</td> <td>    7.221</td> <td> 0.000</td> <td>    0.078</td> <td>    0.136</td>\n",
       "</tr>\n",
       "<tr>\n",
       "  <th>DX</th>              <td>    0.0026</td> <td>    0.021</td> <td>    0.120</td> <td> 0.904</td> <td>   -0.039</td> <td>    0.044</td>\n",
       "</tr>\n",
       "</table>\n",
       "<table class=\"simpletable\">\n",
       "<tr>\n",
       "  <th>Omnibus:</th>       <td>92.065</td> <th>  Durbin-Watson:     </th> <td>   0.624</td>\n",
       "</tr>\n",
       "<tr>\n",
       "  <th>Prob(Omnibus):</th> <td> 0.000</td> <th>  Jarque-Bera (JB):  </th> <td> 113.335</td>\n",
       "</tr>\n",
       "<tr>\n",
       "  <th>Skew:</th>          <td> 0.761</td> <th>  Prob(JB):          </th> <td>2.45e-25</td>\n",
       "</tr>\n",
       "<tr>\n",
       "  <th>Kurtosis:</th>      <td> 3.340</td> <th>  Cond. No.          </th> <td>    10.9</td>\n",
       "</tr>\n",
       "</table><br/><br/>Notes:<br/>[1] R² is computed without centering (uncentered) since the model does not contain a constant.<br/>[2] Standard Errors assume that the covariance matrix of the errors is correctly specified."
      ],
      "text/plain": [
       "<class 'statsmodels.iolib.summary.Summary'>\n",
       "\"\"\"\n",
       "                                 OLS Regression Results                                \n",
       "=======================================================================================\n",
       "Dep. Variable:                    Age   R-squared (uncentered):                   0.581\n",
       "Model:                            OLS   Adj. R-squared (uncentered):              0.580\n",
       "Method:                 Least Squares   F-statistic:                              386.4\n",
       "Date:                Fri, 20 Oct 2023   Prob (F-statistic):                   1.12e-208\n",
       "Time:                        16:35:14   Log-Likelihood:                         -24.022\n",
       "No. Observations:                1117   AIC:                                      56.04\n",
       "Df Residuals:                    1113   BIC:                                      76.12\n",
       "Df Model:                           4                                                  \n",
       "Covariance Type:            nonrobust                                                  \n",
       "===================================================================================\n",
       "                      coef    std err          t      P>|t|      [0.025      0.975]\n",
       "-----------------------------------------------------------------------------------\n",
       "Max Motion (mm)     0.3654      0.028     12.961      0.000       0.310       0.421\n",
       "Temperature         0.0457      0.081      0.565      0.572      -0.113       0.205\n",
       "Gender              0.1070      0.015      7.221      0.000       0.078       0.136\n",
       "DX                  0.0026      0.021      0.120      0.904      -0.039       0.044\n",
       "==============================================================================\n",
       "Omnibus:                       92.065   Durbin-Watson:                   0.624\n",
       "Prob(Omnibus):                  0.000   Jarque-Bera (JB):              113.335\n",
       "Skew:                           0.761   Prob(JB):                     2.45e-25\n",
       "Kurtosis:                       3.340   Cond. No.                         10.9\n",
       "==============================================================================\n",
       "\n",
       "Notes:\n",
       "[1] R² is computed without centering (uncentered) since the model does not contain a constant.\n",
       "[2] Standard Errors assume that the covariance matrix of the errors is correctly specified.\n",
       "\"\"\""
      ]
     },
     "execution_count": 557,
     "metadata": {},
     "output_type": "execute_result"
    }
   ],
   "source": [
    "mod.summary()"
   ]
  },
  {
   "cell_type": "code",
   "execution_count": 548,
   "id": "38f4a442-316e-41aa-b270-cd976e800145",
   "metadata": {},
   "outputs": [
    {
     "name": "stdout",
     "output_type": "stream",
     "text": [
      "mae -0.16841068960377098\n",
      "r2 -0.8799230727820255\n"
     ]
    }
   ],
   "source": [
    "from matplotlib import pyplot as plt\n",
    "from sklearn import svm\n",
    "from sklearn.inspection import permutation_importance\n",
    "\n",
    "\n",
    "svm = svm.SVR(kernel='linear',C=1)\n",
    "svm.fit(X,y)\n",
    "\n",
    "from sklearn.model_selection import cross_val_score\n",
    "scores = cross_validate(svm, X, y, cv=10 ,scoring=scoring, n_jobs=-1)\n",
    "print('mae', scores['test_mae'].mean())\n",
    "print('r2', scores['test_r2'].mean())\n"
   ]
  },
  {
   "cell_type": "code",
   "execution_count": 549,
   "id": "f9c89176-879c-4165-9992-af6dff4d68a7",
   "metadata": {},
   "outputs": [
    {
     "data": {
      "image/png": "[encoded data removed]",
      "text/plain": [
       "<Figure size 640x480 with 1 Axes>"
      ]
     },
     "metadata": {},
     "output_type": "display_data"
    }
   ],
   "source": [
    "perm_importance = permutation_importance(svm, X, y)\n",
    "\n",
    "feature_names = X.columns.values\n",
    "features = np.array(feature_names)\n",
    "\n",
    "sorted_idx = perm_importance.importances_mean.argsort()\n",
    "plt.barh(features[sorted_idx], perm_importance.importances_mean[sorted_idx])\n",
    "plt.xlabel(\"Permutation Importance\")\n",
    "plt.show()"
   ]
  },
  {
   "cell_type": "code",
   "execution_count": 550,
   "id": "d0b3f558-e4d4-4001-861a-c3b326f5182b",
   "metadata": {},
   "outputs": [
    {
     "name": "stdout",
     "output_type": "stream",
     "text": [
      "mae -0.1708564538646754\n",
      "r2 -1.1240650241402246\n"
     ]
    }
   ],
   "source": [
    "from sklearn.ensemble import RandomForestRegressor\n",
    "regr = RandomForestRegressor(max_depth=2, random_state=0)\n",
    "regr.fit(X, y)\n",
    "regr.score(X,y)\n",
    "\n",
    "scores = cross_validate(regr, X, y, cv=10 ,scoring=scoring, n_jobs=-1)\n",
    "print('mae', scores['test_mae'].mean())\n",
    "print('r2', scores['test_r2'].mean())"
   ]
  },
  {
   "cell_type": "code",
   "execution_count": 551,
   "id": "8bf1087c-c127-4c97-bf12-0c32881eb9f4",
   "metadata": {},
   "outputs": [
    {
     "data": {
      "image/png": "[encoded data removed]",
      "text/plain": [
       "<Figure size 640x480 with 1 Axes>"
      ]
     },
     "metadata": {},
     "output_type": "display_data"
    }
   ],
   "source": [
    "perm_importance = permutation_importance(regr, X, y)\n",
    "\n",
    "feature_names = X.columns.values\n",
    "features = np.array(feature_names)\n",
    "\n",
    "sorted_idx = perm_importance.importances_mean.argsort()\n",
    "plt.barh(features[sorted_idx], perm_importance.importances_mean[sorted_idx])\n",
    "plt.xlabel(\"Permutation Importance\")\n",
    "plt.show()"
   ]
  },
  {
   "cell_type": "code",
   "execution_count": null,
   "id": "7f75d5c7-1ac7-43ea-9067-e3b02818e5a1",
   "metadata": {},
   "outputs": [],
   "source": []
  },
  {
   "cell_type": "code",
   "execution_count": null,
   "id": "befc7c5c-db81-4e23-b552-0d40cc4acaf6",
   "metadata": {},
   "outputs": [],
   "source": []
  }
 ],
 "metadata": {
  "kernelspec": {
   "display_name": "Python 3 (ipykernel)",
   "language": "python",
   "name": "python3"
  },
  "language_info": {
   "codemirror_mode": {
    "name": "ipython",
    "version": 3
   },
   "file_extension": ".py",
   "mimetype": "text/x-python",
   "name": "python",
   "nbconvert_exporter": "python",
   "pygments_lexer": "ipython3",
   "version": "3.9.16"
  }
 },
 "nbformat": 4,
 "nbformat_minor": 5
}
