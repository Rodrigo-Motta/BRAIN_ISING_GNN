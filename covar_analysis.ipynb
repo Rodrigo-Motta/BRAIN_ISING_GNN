{
 "cells": [
  {
   "cell_type": "code",
   "execution_count": 1,
   "id": "def791a4-e6ae-4257-8e9d-f3cb1a573844",
   "metadata": {},
   "outputs": [
    {
     "name": "stdout",
     "output_type": "stream",
     "text": [
      "/Users/rodrigo/Post-Grad/CC400/Repo\n"
     ]
    }
   ],
   "source": [
    "%cd /Users/rodrigo/Post-Grad/CC400/Repo"
   ]
  },
  {
   "cell_type": "code",
   "execution_count": 242,
   "id": "9fdb800f-3670-4ef6-81e2-307be75e11be",
   "metadata": {},
   "outputs": [],
   "source": [
    "from sklearn.decomposition import PCA\n",
    "from sklearn.cluster import k_means\n",
    "import numpy as np\n",
    "import matplotlib.pyplot as plt\n",
    "from numba import jit,prange\n",
    "import time\n",
    "from utils import import_data, compute_KNN_graph, create_batch,reconstruct_symmetric_matrix, read_motion\n",
    "import pandas as pd\n",
    "import numpy as np\n",
    "import matplotlib.pyplot as plt\n",
    "import seaborn as sns\n",
    "import torch\n",
    "import torch_geometric\n",
    "import torch.nn as nn\n",
    "from torch_geometric.data import Data\n",
    "from torch_geometric.utils import dense_to_sparse\n",
    "from sklearn.model_selection import cross_validate\n",
    "from tqdm import tqdm\n",
    "from torch_geometric.loader import DataLoader\n",
    "from sklearn.metrics import roc_curve, auc\n",
    "from sklearn.model_selection import StratifiedKFold\n",
    "from sklearn.metrics import mean_absolute_error,mean_squared_error, r2_score\n",
    "\n",
    "scoring = {'mae': 'neg_mean_absolute_error',\n",
    "           'mse': 'neg_mean_squared_error',\n",
    "          'r2' : 'r2'} "
   ]
  },
  {
   "cell_type": "code",
   "execution_count": 406,
   "id": "68661cdd-fd29-41bd-b30b-5893d24b2fd9",
   "metadata": {},
   "outputs": [],
   "source": [
    "df = pd.read_csv(\"/Users/rodrigo/Post-Grad/Ising_GNN/result.csv\").dropna()\n",
    "\n",
    "df.head()\n",
    "\n",
    "df = df[df['Max Motion (mm)'] < 5]"
   ]
  },
  {
   "cell_type": "code",
   "execution_count": 475,
   "id": "0a83c771-955b-4d61-b257-7920c5f30b15",
   "metadata": {},
   "outputs": [
    {
     "name": "stdout",
     "output_type": "stream",
     "text": [
      "correlation Temperature and Age = -0.34320116550631624\n"
     ]
    }
   ],
   "source": [
    "print('correlation Temperature and Age = {}'.format(np.corrcoef([df['Temperature'], df['Age']])[0,1]))"
   ]
  },
  {
   "cell_type": "code",
   "execution_count": 476,
   "id": "53da19db-707f-4e33-87e8-4c59f09b9c1c",
   "metadata": {},
   "outputs": [
    {
     "name": "stdout",
     "output_type": "stream",
     "text": [
      "correlation Temperature and Max Motion = 0.22754855114852643\n"
     ]
    }
   ],
   "source": [
    "print('correlation Temperature and Max Motion = {}'.format(np.corrcoef([df['Temperature'], df['Max Motion (mm)']])[0,1]))"
   ]
  },
  {
   "cell_type": "code",
   "execution_count": 464,
   "id": "9f1b19de-8bf0-46f6-9220-e1d0fdeb846d",
   "metadata": {},
   "outputs": [
    {
     "name": "stderr",
     "output_type": "stream",
     "text": [
      "/var/folders/24/hz8c6rbx3r32smymhrvkwbmc0000gn/T/ipykernel_2906/3883802092.py:7: SettingWithCopyWarning: \n",
      "A value is trying to be set on a copy of a slice from a DataFrame.\n",
      "Try using .loc[row_indexer,col_indexer] = value instead\n",
      "\n",
      "See the caveats in the documentation: https://pandas.pydata.org/pandas-docs/stable/user_guide/indexing.html#returning-a-view-versus-a-copy\n",
      "  X['Max Motion (mm)'] = np.log(X['Max Motion (mm)']) + 0.00001\n"
     ]
    }
   ],
   "source": [
    "# X = df[['Age', 'Max Motion (mm)']]#, 'Gender', 'DX']]\n",
    "# y = df['Temperature']\n",
    "\n",
    "X = df[['Max Motion (mm)', 'Temperature']]#, 'Gender', 'DX']]\n",
    "y = df['Age']\n",
    "\n",
    "X['Max Motion (mm)'] = np.log(X['Max Motion (mm)']) + 0.00001\n",
    "\n",
    "X = (X - X.min(axis=0)) / (X.max(axis=0) - X.min(axis=0))\n",
    "y = (y - y.min(axis=0)) / (y.max(axis=0) - y.min(axis=0))"
   ]
  },
  {
   "cell_type": "code",
   "execution_count": 465,
   "id": "38ef6759-052a-4855-9c74-1a6a3b8750f9",
   "metadata": {},
   "outputs": [],
   "source": [
    "# plt.hist(X.Age, alpha=0.5)\n",
    "# plt.hist(X['Max Motion (mm)'], alpha=.5)\n",
    "# plt.hist(y, alpha=.6)\n",
    "# plt.show()"
   ]
  },
  {
   "cell_type": "code",
   "execution_count": 466,
   "id": "674fd63b-3057-4575-a9a0-fb0d12ea8876",
   "metadata": {},
   "outputs": [
    {
     "data": {
      "text/plain": [
       "0.12112328246277804"
      ]
     },
     "execution_count": 466,
     "metadata": {},
     "output_type": "execute_result"
    }
   ],
   "source": [
    "from sklearn.linear_model import LinearRegression\n",
    "reg = LinearRegression(fit_intercept=True).fit(X,y)\n",
    "reg.score(X, y)"
   ]
  },
  {
   "cell_type": "code",
   "execution_count": 467,
   "id": "9542f3bb-0b62-4f3e-8c5c-fa585c101f24",
   "metadata": {},
   "outputs": [
    {
     "data": {
      "text/plain": [
       "array([-0.06086056, -0.93319891])"
      ]
     },
     "execution_count": 467,
     "metadata": {},
     "output_type": "execute_result"
    }
   ],
   "source": [
    "reg.coef_"
   ]
  },
  {
   "cell_type": "code",
   "execution_count": 468,
   "id": "61082105-6591-4c9a-aeff-f20c698de865",
   "metadata": {},
   "outputs": [],
   "source": [
    "import statsmodels.api as sm\n",
    "\n",
    "X = sm.add_constant(X)\n",
    "mod = sm.OLS(y, X).fit()\n"
   ]
  },
  {
   "cell_type": "code",
   "execution_count": 469,
   "id": "1779319f-e337-4abf-af99-4aa47361ac6e",
   "metadata": {},
   "outputs": [
    {
     "data": {
      "text/html": [
       "<table class=\"simpletable\">\n",
       "<caption>OLS Regression Results</caption>\n",
       "<tr>\n",
       "  <th>Dep. Variable:</th>           <td>Age</td>       <th>  R-squared:         </th> <td>   0.121</td>\n",
       "</tr>\n",
       "<tr>\n",
       "  <th>Model:</th>                   <td>OLS</td>       <th>  Adj. R-squared:    </th> <td>   0.120</td>\n",
       "</tr>\n",
       "<tr>\n",
       "  <th>Method:</th>             <td>Least Squares</td>  <th>  F-statistic:       </th> <td>   76.76</td>\n",
       "</tr>\n",
       "<tr>\n",
       "  <th>Date:</th>             <td>Fri, 20 Oct 2023</td> <th>  Prob (F-statistic):</th> <td>5.86e-32</td>\n",
       "</tr>\n",
       "<tr>\n",
       "  <th>Time:</th>                 <td>16:22:16</td>     <th>  Log-Likelihood:    </th> <td>  191.03</td>\n",
       "</tr>\n",
       "<tr>\n",
       "  <th>No. Observations:</th>      <td>  1117</td>      <th>  AIC:               </th> <td>  -376.1</td>\n",
       "</tr>\n",
       "<tr>\n",
       "  <th>Df Residuals:</th>          <td>  1114</td>      <th>  BIC:               </th> <td>  -361.0</td>\n",
       "</tr>\n",
       "<tr>\n",
       "  <th>Df Model:</th>              <td>     2</td>      <th>                     </th>     <td> </td>   \n",
       "</tr>\n",
       "<tr>\n",
       "  <th>Covariance Type:</th>      <td>nonrobust</td>    <th>                     </th>     <td> </td>   \n",
       "</tr>\n",
       "</table>\n",
       "<table class=\"simpletable\">\n",
       "<tr>\n",
       "         <td></td>            <th>coef</th>     <th>std err</th>      <th>t</th>      <th>P>|t|</th>  <th>[0.025</th>    <th>0.975]</th>  \n",
       "</tr>\n",
       "<tr>\n",
       "  <th>const</th>           <td>    0.5052</td> <td>    0.021</td> <td>   24.578</td> <td> 0.000</td> <td>    0.465</td> <td>    0.546</td>\n",
       "</tr>\n",
       "<tr>\n",
       "  <th>Max Motion (mm)</th> <td>   -0.0609</td> <td>    0.030</td> <td>   -2.056</td> <td> 0.040</td> <td>   -0.119</td> <td>   -0.003</td>\n",
       "</tr>\n",
       "<tr>\n",
       "  <th>Temperature</th>     <td>   -0.9332</td> <td>    0.079</td> <td>  -11.851</td> <td> 0.000</td> <td>   -1.088</td> <td>   -0.779</td>\n",
       "</tr>\n",
       "</table>\n",
       "<table class=\"simpletable\">\n",
       "<tr>\n",
       "  <th>Omnibus:</th>       <td>114.443</td> <th>  Durbin-Watson:     </th> <td>   0.655</td>\n",
       "</tr>\n",
       "<tr>\n",
       "  <th>Prob(Omnibus):</th> <td> 0.000</td>  <th>  Jarque-Bera (JB):  </th> <td> 149.102</td>\n",
       "</tr>\n",
       "<tr>\n",
       "  <th>Skew:</th>          <td> 0.846</td>  <th>  Prob(JB):          </th> <td>4.20e-33</td>\n",
       "</tr>\n",
       "<tr>\n",
       "  <th>Kurtosis:</th>      <td> 3.585</td>  <th>  Cond. No.          </th> <td>    15.1</td>\n",
       "</tr>\n",
       "</table><br/><br/>Notes:<br/>[1] Standard Errors assume that the covariance matrix of the errors is correctly specified."
      ],
      "text/plain": [
       "<class 'statsmodels.iolib.summary.Summary'>\n",
       "\"\"\"\n",
       "                            OLS Regression Results                            \n",
       "==============================================================================\n",
       "Dep. Variable:                    Age   R-squared:                       0.121\n",
       "Model:                            OLS   Adj. R-squared:                  0.120\n",
       "Method:                 Least Squares   F-statistic:                     76.76\n",
       "Date:                Fri, 20 Oct 2023   Prob (F-statistic):           5.86e-32\n",
       "Time:                        16:22:16   Log-Likelihood:                 191.03\n",
       "No. Observations:                1117   AIC:                            -376.1\n",
       "Df Residuals:                    1114   BIC:                            -361.0\n",
       "Df Model:                           2                                         \n",
       "Covariance Type:            nonrobust                                         \n",
       "===================================================================================\n",
       "                      coef    std err          t      P>|t|      [0.025      0.975]\n",
       "-----------------------------------------------------------------------------------\n",
       "const               0.5052      0.021     24.578      0.000       0.465       0.546\n",
       "Max Motion (mm)    -0.0609      0.030     -2.056      0.040      -0.119      -0.003\n",
       "Temperature        -0.9332      0.079    -11.851      0.000      -1.088      -0.779\n",
       "==============================================================================\n",
       "Omnibus:                      114.443   Durbin-Watson:                   0.655\n",
       "Prob(Omnibus):                  0.000   Jarque-Bera (JB):              149.102\n",
       "Skew:                           0.846   Prob(JB):                     4.20e-33\n",
       "Kurtosis:                       3.585   Cond. No.                         15.1\n",
       "==============================================================================\n",
       "\n",
       "Notes:\n",
       "[1] Standard Errors assume that the covariance matrix of the errors is correctly specified.\n",
       "\"\"\""
      ]
     },
     "execution_count": 469,
     "metadata": {},
     "output_type": "execute_result"
    }
   ],
   "source": [
    "mod.summary()"
   ]
  },
  {
   "cell_type": "code",
   "execution_count": 470,
   "id": "38f4a442-316e-41aa-b270-cd976e800145",
   "metadata": {},
   "outputs": [
    {
     "name": "stdout",
     "output_type": "stream",
     "text": [
      "mae -0.16938831535233861\n",
      "r2 -0.925593132211114\n"
     ]
    }
   ],
   "source": [
    "from matplotlib import pyplot as plt\n",
    "from sklearn import svm\n",
    "from sklearn.inspection import permutation_importance\n",
    "\n",
    "\n",
    "svm = svm.SVR(kernel='rbf',C=2)\n",
    "svm.fit(X,y)\n",
    "\n",
    "from sklearn.model_selection import cross_val_score\n",
    "scores = cross_validate(svm, X, y, cv=10 ,scoring=scoring, n_jobs=-1)\n",
    "print('mae', scores['test_mae'].mean())\n",
    "print('r2', scores['test_r2'].mean())\n"
   ]
  },
  {
   "cell_type": "code",
   "execution_count": 471,
   "id": "f9c89176-879c-4165-9992-af6dff4d68a7",
   "metadata": {},
   "outputs": [
    {
     "data": {
      "image/png": "[encoded data removed]",
      "text/plain": [
       "<Figure size 640x480 with 1 Axes>"
      ]
     },
     "metadata": {},
     "output_type": "display_data"
    }
   ],
   "source": [
    "perm_importance = permutation_importance(svm, X, y)\n",
    "\n",
    "feature_names = X.columns.values\n",
    "features = np.array(feature_names)\n",
    "\n",
    "sorted_idx = perm_importance.importances_mean.argsort()\n",
    "plt.barh(features[sorted_idx], perm_importance.importances_mean[sorted_idx])\n",
    "plt.xlabel(\"Permutation Importance\")\n",
    "plt.show()"
   ]
  },
  {
   "cell_type": "code",
   "execution_count": 472,
   "id": "d0b3f558-e4d4-4001-861a-c3b326f5182b",
   "metadata": {},
   "outputs": [
    {
     "name": "stdout",
     "output_type": "stream",
     "text": [
      "mae -0.1795415930879855\n",
      "r2 -1.5461146841425049\n"
     ]
    }
   ],
   "source": [
    "from sklearn.ensemble import RandomForestRegressor\n",
    "regr = RandomForestRegressor(max_depth=10, random_state=0)\n",
    "regr.fit(X, y)\n",
    "regr.score(X,y)\n",
    "\n",
    "scores = cross_validate(regr, X, y, cv=10 ,scoring=scoring, n_jobs=-1)\n",
    "print('mae', scores['test_mae'].mean())\n",
    "print('r2', scores['test_r2'].mean())"
   ]
  },
  {
   "cell_type": "code",
   "execution_count": 473,
   "id": "8bf1087c-c127-4c97-bf12-0c32881eb9f4",
   "metadata": {},
   "outputs": [
    {
     "data": {
      "image/png": "[encoded data removed]",
      "text/plain": [
       "<Figure size 640x480 with 1 Axes>"
      ]
     },
     "metadata": {},
     "output_type": "display_data"
    }
   ],
   "source": [
    "perm_importance = permutation_importance(regr, X, y)\n",
    "\n",
    "feature_names = X.columns.values\n",
    "features = np.array(feature_names)\n",
    "\n",
    "sorted_idx = perm_importance.importances_mean.argsort()\n",
    "plt.barh(features[sorted_idx], perm_importance.importances_mean[sorted_idx])\n",
    "plt.xlabel(\"Permutation Importance\")\n",
    "plt.show()"
   ]
  },
  {
   "cell_type": "code",
   "execution_count": null,
   "id": "7f75d5c7-1ac7-43ea-9067-e3b02818e5a1",
   "metadata": {},
   "outputs": [],
   "source": []
  },
  {
   "cell_type": "code",
   "execution_count": null,
   "id": "befc7c5c-db81-4e23-b552-0d40cc4acaf6",
   "metadata": {},
   "outputs": [],
   "source": []
  }
 ],
 "metadata": {
  "kernelspec": {
   "display_name": "Python 3 (ipykernel)",
   "language": "python",
   "name": "python3"
  },
  "language_info": {
   "codemirror_mode": {
    "name": "ipython",
    "version": 3
   },
   "file_extension": ".py",
   "mimetype": "text/x-python",
   "name": "python",
   "nbconvert_exporter": "python",
   "pygments_lexer": "ipython3",
   "version": "3.9.16"
  }
 },
 "nbformat": 4,
 "nbformat_minor": 5
}
